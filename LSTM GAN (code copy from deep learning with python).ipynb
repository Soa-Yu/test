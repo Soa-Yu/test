{
 "cells": [
  {
   "cell_type": "markdown",
   "metadata": {},
   "source": [
    "## LSTM 尼采 文本生成"
   ]
  },
  {
   "cell_type": "code",
   "execution_count": 5,
   "metadata": {},
   "outputs": [
    {
     "name": "stdout",
     "output_type": "stream",
     "text": [
      "Corpus length: 600893\n"
     ]
    }
   ],
   "source": [
    "import keras\n",
    "import numpy as np\n",
    "\n",
    "path = keras.utils.get_file(\n",
    "    'nietzsche.txt',\n",
    "    origin='https://s3.amazonaws.com/text-datasets/nietzsche.txt')\n",
    "text = open(path, encoding = 'utf8').read().lower()\n",
    "print('Corpus length:', len(text))"
   ]
  },
  {
   "cell_type": "code",
   "execution_count": 6,
   "metadata": {},
   "outputs": [
    {
     "name": "stdout",
     "output_type": "stream",
     "text": [
      "Number of sequences: 200278\n",
      "Unique characters: 57\n",
      "Vectorization...\n"
     ]
    }
   ],
   "source": [
    "maxlen = 60\n",
    "step = 3\n",
    "\n",
    "sentences = []\n",
    "\n",
    "next_chars = []\n",
    "\n",
    "for i in range(0, len(text) - maxlen, step):\n",
    "    sentences.append(text[i: i + maxlen])\n",
    "    next_chars.append(text[i + maxlen])\n",
    "\n",
    "print('Number of sequences:', len(sentences))\n",
    "\n",
    "chars = sorted(list(set(text)))\n",
    "print('Unique characters:', len(chars))\n",
    "char_indices = dict((char, chars.index(char)) for char in chars)\n",
    "\n",
    "print('Vectorization...')\n",
    "x = np.zeros((len(sentences), maxlen, len(chars)), dtype=np.bool)\n",
    "y = np.zeros((len(sentences), len(chars)), dtype=np.bool)\n",
    "for i, sentence in enumerate(sentences):\n",
    "    for t, char in enumerate(sentence):\n",
    "        x[i, t, char_indices[char]] = 1\n",
    "    y[i, char_indices[next_chars[i]]] = 1\n"
   ]
  },
  {
   "cell_type": "code",
   "execution_count": 28,
   "metadata": {
    "collapsed": true
   },
   "outputs": [],
   "source": [
    "from keras import layers\n",
    "\n",
    "model = keras.models.Sequential()\n",
    "model.add(layers.LSTM(128, input_shape=(maxlen, len(chars))))\n",
    "model.add(layers.Dense(len(chars), activation='softmax'))"
   ]
  },
  {
   "cell_type": "code",
   "execution_count": 29,
   "metadata": {
    "collapsed": true
   },
   "outputs": [],
   "source": [
    "optimizer = keras.optimizers.RMSprop(lr=0.01)\n",
    "model.compile(loss='categorical_crossentropy', optimizer=optimizer)"
   ]
  },
  {
   "cell_type": "markdown",
   "metadata": {},
   "source": [
    "### softmax temperature"
   ]
  },
  {
   "cell_type": "code",
   "execution_count": 30,
   "metadata": {
    "collapsed": true
   },
   "outputs": [],
   "source": [
    "def sample(preds, temperature=1.0):\n",
    "    preds = np.asarray(preds).astype('float64')\n",
    "    preds = np.log(preds) / temperature\n",
    "    exp_preds = np.exp(preds)\n",
    "    preds = exp_preds / np.sum(exp_preds)\n",
    "    probas = np.random.multinomial(1, preds, 1)\n",
    "    return np.argmax(probas)"
   ]
  },
  {
   "cell_type": "code",
   "execution_count": null,
   "metadata": {},
   "outputs": [
    {
     "name": "stdout",
     "output_type": "stream",
     "text": [
      "epoch 1\n",
      "Epoch 1/1\n",
      "200278/200278 [==============================] - 206s 1ms/step - loss: 2.0126\n",
      "--- Generating with seed: \"of the people, who exist for service and\n",
      "general utility, an\"\n",
      "------ temperature: 0.2\n",
      "of the people, who exist for service and\n",
      "general utility, and his the moral and and that the respection the more the despection that the moral the the the man in the man in the more the more the most of the sense of the person the senses the sense of the sense of the man in the man in the sense that the the man in the man in the man in the sense of the sense of the sense the man in the man in the beto more the more that the sense of the men in the senses t------ temperature: 0.5\n",
      "beto more the more that the sense of the men in the senses that he one dound truth of more that the sense of the simmanity the sense of that the free things of the hever to the instinction that on the more\n",
      "prece that the but in the somity of the but as that it is the laster and conto hand in\"man the man, the conderstather one beech which is all you in the philosophers in the its the bething that consequent of presentery that sected the dempation is the dem------ temperature: 1.0\n",
      "onsequent of presentery that sected the dempation is the dempicies shams resivin of livesible has devilation and doint their ipoptiling henction by\n",
      "nottion of wit in, or\n",
      "this have any seafiness\n",
      "of reading as kening\n",
      "and requestion in this condetures self-ditwaosent that my in un inverm. respatity feysequss of suchstinatiouss?e, nom an one the plays: such in feats. kinstradation of )lant that\n",
      "\"meteratifal\n",
      "in which put of ovin to mo which refficuss to gay the------ temperature: 1.2\n",
      "atifal\n",
      "in which put of ovin to mo which refficuss to gay theictly\n",
      "gal\n",
      "thecepithed or moroed enstanderaly, as suck.--berved-\n",
      "int\n",
      " i for dorhtesided--be realituition but to be how\n",
      "paichplesswearing at impsitment, they werlves talneb-and inderxaritys the \n",
      "emperit, percipitionsand) to shades many morad: \"fintecity.\"\n",
      "\n",
      "278\n",
      "\n",
      "to ses.\n",
      "mul, upan\n",
      "the beciidoments nam postomet pact apreadmentwand.\n",
      "\n",
      "1mphtions..\n",
      "\n",
      "175. tounder\n",
      "matides.\n",
      "\n",
      "1=b a regivelly\n",
      "know regacis, howeepoch 2\n",
      "Epoch 1/1\n",
      "200278/200278 [==============================] - 204s 1ms/step - loss: 1.6608\n",
      "--- Generating with seed: \"ed! it is so nice and such a\n",
      "distinction to have one's own a\"\n",
      "------ temperature: 0.2\n",
      "ed! it is so nice and such a\n",
      "distinction to have one's own all the same the restress of the sense of the soul the same the soul in the same the sense of the sense of the sense of the sense of the same the interplet of the sense of the have the same the one in the same the sense of the same the same the same the sense and the same the have the restress the sense of the same the soul in the sense of the same of the spirit of the sense of the sense and the se------ temperature: 0.5\n",
      " the same of the spirit of the sense of the sense and the seet and consequent of the last exception and such all which he german as a meded to develop to a men the one the interpart of more mesteng perhaps all be destlor finer men of the sense the greek of lived to himself to dispraint of the spost and it is the commind and a desided the desely it is to dejudion of the interpless to prement that it is one consequent the how pairs the last of the command ha------ temperature: 1.0\n",
      "t is one consequent the how pairs the last of the command has exempry the masulth, when pitious conact minds very man by selves that, always glast deserne, more the kild forten last the out gerkitarits he natural seldoch of meele. all this standic noturophy growlited not prow supprece of this dided--in ever\n",
      "asul belaghhese faith to fundiant\n",
      "no mederiflyly resulted here of i\n",
      "bling and lonely be by jes the question, is alloned and inlication\n",
      "as we loved by\n",
      "r------ temperature: 1.2\n",
      "jes the question, is alloned and inlication\n",
      "as we loved by\n",
      "revood.\" of with like one \"unten, opcoves the veow, geews is  hat the csully, not bluachs bestroct the undepode lively not butraxie in gerithous.--alwisydonk\n",
      "more saok of hyces or\n",
      "werady overf-in\n",
      "diets epong men in en generobly in desivilaiturement of\n",
      "what past ne\n",
      "self.it ofm, the ouch. he is pretophy and wark moes, noteri; extented valused. there without corrersing there. life to cives one-weunderepoch 3\n",
      "Epoch 1/1\n",
      "200278/200278 [==============================] - 195s 974us/step - loss: 1.5703\n",
      "--- Generating with seed: \"nally, let us consider that even the seeker of knowledge\n",
      "ope\"\n",
      "------ temperature: 0.2\n",
      "nally, let us consider that even the seeker of knowledge\n",
      "operness of the present of the sense of the considered to the more and still and something of the spirit and the spirit of the spirit of the fact there is and who have the spirit with the spirit to deceptions of the first the spirit of the spirit of the spirit the consequently and something of the consequently the consequently the spirits of the consequently to the spirit to the strengther of the sen------ temperature: 0.5\n",
      " the consequently to the spirit to the strengther of the sense of conditions of the precisely been presently have bad all the the view, with which morality that in the last of the one in the consture of the nature: in a men of the\n",
      "spirits of the feeling of the human present to consequent of the interentity of the wear of the whole to which only and considered morality to more of literaterment and that it is who have not it is and the feelers of the masters------ temperature: 1.0\n",
      "that it is who have not it is and the feelers of the masters for i mankind of the where belath for the talkionist they souther, necessital event take, and thind ward. they taken it he not said their thin wark to the\n",
      "feeling so rublutus\n",
      "guagine, when they first withouestent and that long\n",
      "\"shisepantard\"), here, too in the\n",
      "reality with ewosulty in freedomical and to\n",
      "the\n",
      "thind evolure for that wable of \"way and all through the manstull of unrividihy which so t------ temperature: 1.2\n",
      "f \"way and all through the manstull of unrividihy which so tyliese wherintey, we have pspirativek, so resaid, if we in life shome beot as in\n",
      "the consudire,--with little tharso-- lato\n",
      "mprinessancious this abletingge,\n",
      "and\n",
      "timist fromedent, of any holourcisopicism of feeling la.genaodical, withothere\n",
      "of orignt, there iurly awdaday.le again to wome\"--consciously howeverthines and blead ait of else exucring stended\n",
      "arecained at a spistence of himself to their sepoch 4\n",
      "Epoch 1/1\n",
      "200278/200278 [==============================] - 193s 965us/step - loss: 1.5274\n",
      "--- Generating with seed: \"\n",
      "28. what is most difficult to render from one language into\"\n",
      "------ temperature: 0.2\n",
      "\n",
      "28. what is most difficult to render from one language into in the state and contemplance, because is the state of the state the restration of the far and the developed of the state in the state and state the man in the state the continuable with a propision and believed the state and the contented the state and the state the state of the state the state the an accord to the state and the state the as a stand and the believe and and the state is also the ------ temperature: 0.5\n",
      "he as a stand and the believe and and the state is also the special special and the right the proparty in things of the developed, the more state and destrudg, as is as the state and soul the master the charmed because that his sense that is and what the are their have consequent and expression as the view of the "
     ]
    },
    {
     "name": "stderr",
     "output_type": "stream",
     "text": [
      "C:\\Users\\sy3445\\AppData\\Local\\Continuum\\anaconda3\\lib\\site-packages\\ipykernel_launcher.py:3: RuntimeWarning: divide by zero encountered in log\n",
      "  This is separate from the ipykernel package so we can avoid doing imports until\n"
     ]
    },
    {
     "name": "stdout",
     "output_type": "stream",
     "text": [
      "head of the wast to power of the state of men and acts in not the condition of the most taste the will of the former to his man in the fact that ------ temperature: 1.0\n",
      "st taste the will of the former to his man in the fact that a mean by the main thoughtly and shortatian. justicaty to doing a know of a stopls\n",
      "pacts that they is state in the taveios will--be begode something to uto\"mann as we has withone (the jestines as if these the reimanists, and poptumentmy in literaters: is the word, such as he substious was much with restrainess, the devalocism.--who is revolicing to in empersise man, the deces of us.\n",
      "\n",
      "entiobll even------ temperature: 1.2\n",
      "olicing to in empersise man, the deces of us.\n",
      "\n",
      "entiobll eventures\n",
      "did eken to his nothoin life or perhavs glosula, is, their inventifly the sposists upon and is is the vationanittiation\" in\n",
      "or unwill, who is revulief the restraining onfest is fasmiysments of attaming man is le ladpabioring with troth; as muscuoust\n",
      "do highc furchic moreness, attenud, once eeristuly cawall just ratty of are, that eternaliying, refinates no will mads\n",
      "anyor\n",
      "of relunging\n",
      "burgd\n",
      "epoch 5\n",
      "Epoch 1/1\n",
      "200278/200278 [==============================] - 205s 1ms/step - loss: 1.4962\n",
      "--- Generating with seed: \"f the individuals\n",
      "in amount of force and degree of worth, an\"\n",
      "------ temperature: 0.2\n",
      "f the individuals\n",
      "in amount of force and degree of worth, and a strievebour the striether sense of the sense of the sense of the striether the spirit of the sense and the sense the strief the sense of the sense of the sense of the same the spirit of the sense of the striether of the sense and and and the spirit of such a such a striefteners of the stands of the sense of the sense of the sense of the striether and the spirit that the sense of the striet of ------ temperature: 0.5\n",
      "he striether and the spirit that the sense of the striet of his confins of the partic of a traines to the distinct of the sense the power invariations influence of the contradict as the mans belief of the last the same the standed of the contradict and the sense in resses his of the comparisitys\n",
      "of self-contradict of our and really power, on as a such a society in the germans of the sense and with the intention of\n",
      "the spirit of the sense of the forew their------ temperature: 1.0\n",
      " the intention of\n",
      "the spirit of the sense of the forew their valisibted pinciation of the achicinism pelishin,\n",
      "who do in usit. long that cciuct. be spicitations.--boun these\n",
      "irructary his\n",
      "    under anzites of the greatess has\n",
      "conflitbord\" out. that interficies rung; is a dangeres, or acts which the sortty of the darter for has also them accords (antabls into\n",
      "person and from this pressonalf--old, under\n",
      "whorebyin indarity. their solience, which, so religious------ temperature: 1.2\n",
      "nder\n",
      "whorebyin indarity. their solience, which, so religiousness wills look special seefed\n",
      "under that who laso, of\n",
      "winding-las too is were to thlough.--and snadung tourangs from would not\n",
      "timsenableaburished\n",
      "inniviltty, but it. regainsty hive dicc vilable, serves effacting, only people.\n",
      "thoughtsoriws.\" in\n",
      "the standingh. just certain revergalical, mondus worth almen litts (for they\n",
      "\"plemperantical, eyest christially teringnets so its applieny wor individualepoch 6\n",
      "Epoch 1/1\n",
      "173056/200278 [========================>.....] - ETA: 27s - loss: 1.4777"
     ]
    }
   ],
   "source": [
    "import random\n",
    "import sys\n",
    "\n",
    "for epoch in range(1, 60):\n",
    "    print('epoch', epoch)\n",
    "    model.fit(x, y, batch_size=128, epochs=1)\n",
    "    start_index = random.randint(0, len(text) - maxlen - 1)\n",
    "    generated_text = text[start_index: start_index + maxlen]\n",
    "    print('--- Generating with seed: \"' + generated_text + '\"')\n",
    "    for temperature in [0.2, 0.5, 1.0, 1.2]:\n",
    "        print('------ temperature:', temperature)\n",
    "        sys.stdout.write(generated_text)\n",
    "\n",
    "        for i in range(400):\n",
    "            sampled = np.zeros((1, maxlen, len(chars)))\n",
    "            for t, char in enumerate(generated_text):\n",
    "                sampled[0, t, char_indices[char]] = 1.\n",
    "\n",
    "            preds = model.predict(sampled, verbose=0)[0]\n",
    "            next_index = sample(preds, temperature)\n",
    "            next_char = chars[next_index]\n",
    "\n",
    "            generated_text += next_char\n",
    "            generated_text = generated_text[1:]\n",
    "\n",
    "            sys.stdout.write(next_char)\n",
    "\t\t\t"
   ]
  },
  {
   "cell_type": "code",
   "execution_count": null,
   "metadata": {
    "collapsed": true
   },
   "outputs": [],
   "source": []
  }
 ],
 "metadata": {
  "kernelspec": {
   "display_name": "Python 3",
   "language": "python",
   "name": "python3"
  },
  "language_info": {
   "codemirror_mode": {
    "name": "ipython",
    "version": 3
   },
   "file_extension": ".py",
   "mimetype": "text/x-python",
   "name": "python",
   "nbconvert_exporter": "python",
   "pygments_lexer": "ipython3",
   "version": "3.6.3"
  }
 },
 "nbformat": 4,
 "nbformat_minor": 2
}
