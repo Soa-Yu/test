{
 "cells": [
  {
   "cell_type": "markdown",
   "metadata": {},
   "source": [
    "# Create simple_notebook_multiple_inputs.ipynb\n",
    "\n",
    "This is an adaptation of the simple_notebook jupyter notebook, using multiple inputs.  The multiple inputs are really a singular dictionary that contains entries for each input we want to use.  Because we use a concatenate to bring the two inputs together in an intermediate layer, we must of the functional API, instead of the Sequential model."
   ]
  },
  {
   "cell_type": "code",
   "execution_count": null,
   "metadata": {
    "collapsed": true
   },
   "outputs": [],
   "source": [
    "from __future__ import print_function\n",
    "from hyperopt import Trials, STATUS_OK, tpe\n",
    "from hyperas import optim\n",
    "from hyperas.distributions import choice, uniform\n",
    "\n",
    "from keras.models import Model\n",
    "from keras.layers import Input, Dense, Dropout, concatenate, Activation\n",
    "from keras.optimizers import RMSprop\n",
    "\n",
    "from keras.datasets import mnist\n",
    "from keras.utils import np_utils\n",
    "import numpy"
   ]
  },
  {
   "cell_type": "code",
   "execution_count": null,
   "metadata": {
    "collapsed": true
   },
   "outputs": [],
   "source": [
    "def data():\n",
    "    '''\n",
    "    Data providing function:\n",
    "    This function is separated from model() so that hyperopt\n",
    "    won't reload data for each evaluation run.\n",
    "    '''\n",
    "    (mnist_X_train, y_train), (mnist_X_test, y_test) = mnist.load_data()\n",
    "    mnist_X_train = mnist_X_train.reshape(60000, 784)\n",
    "    mnist_X_test = mnist_X_test.reshape(10000, 784)\n",
    "    mnist_X_train = mnist_X_train.astype('float32')\n",
    "    mnist_X_test = mnist_X_test.astype('float32')\n",
    "    mnist_X_train /= 255\n",
    "    mnist_X_test /= 255\n",
    "    nb_classes = 10\n",
    "    Y_train = np_utils.to_categorical(y_train, nb_classes)\n",
    "    Y_test = np_utils.to_categorical(y_test, nb_classes)\n",
    "    X_train = {'x1': mnist_X_train, 'x2': numpy.flip(mnist_X_train, axis=1)}\n",
    "    X_test = {'x1': mnist_X_test, 'x2': numpy.flip(mnist_X_test, axis=1)}\n",
    "    return X_train, Y_train, X_test, Y_test"
   ]
  },
  {
   "cell_type": "code",
   "execution_count": null,
   "metadata": {
    "collapsed": true
   },
   "outputs": [],
   "source": [
    "def model(X_train, Y_train, X_test, Y_test):\n",
    "    '''\n",
    "    Model providing function:\n",
    "    Create Keras model with double curly brackets dropped-in as needed.\n",
    "    Return value has to be a valid python dictionary with two customary keys:\n",
    "        - loss: Specify a numeric evaluation metric to be minimized\n",
    "        - status: Just use STATUS_OK and see hyperopt documentation if not feasible\n",
    "    The last one is optional, though recommended, namely:\n",
    "        - model: specify the model just created so that we can later use it again.\n",
    "    '''\n",
    "    x1 = Input(shape=(784,),  name='x1')\n",
    "    dense_x1 = Dense(512)(x1)\n",
    "    x2 = Input(shape=(784,),  name='x2')\n",
    "    dense_x2 = Dense(512)(x2)  \n",
    "    merged = concatenate([dense_x1, dense_x2])\n",
    "    merged = Activation('relu')(merged)\n",
    "    merged = Dropout({{uniform(0, 1)}})(merged)\n",
    "    merged = Dense({{choice([256, 512, 1024])}}, activation='relu')(merged)\n",
    "    merged = Dropout({{uniform(0, 1)}})(merged)\n",
    "    output = Dense(10, activation='softmax', name='output')(merged)\n",
    "    model = Model(inputs=[x1, x2], outputs=[output])\n",
    "\n",
    "    rms = RMSprop()\n",
    "    model.compile(loss='categorical_crossentropy', optimizer=rms, metrics=['accuracy'])\n",
    "\n",
    "    model.fit({'x1': X_train['x1'], 'x2': X_train['x2']}, {'output': Y_train},\n",
    "              batch_size={{choice([64, 128])}},\n",
    "              epochs=1,\n",
    "              verbose=2,\n",
    "              validation_data=({'x1': X_test['x1'], 'x2': X_test['x2']}, {'output': Y_test}))\n",
    "    score, acc = model.evaluate({'x1': X_test['x1'], 'x2': X_test['x2']}, {'output': Y_test}, verbose=0)\n",
    "    print('Test accuracy:', acc)\n",
    "    return {'loss': -acc, 'status': STATUS_OK, 'model': model}"
   ]
  },
  {
   "cell_type": "code",
   "execution_count": null,
   "metadata": {
    "collapsed": true
   },
   "outputs": [],
   "source": [
    "X_train, Y_train, X_test, Y_test = data()\n",
    "\n",
    "best_run, best_model = optim.minimize(model=model,\n",
    "                                      data=data,\n",
    "                                      algo=tpe.suggest,\n",
    "                                      max_evals=5,\n",
    "                                      trials=Trials(),\n",
    "                                      notebook_name='simple_notebook_multiple_inputs (hyperas example)')"
   ]
  }
 ],
 "metadata": {
  "kernelspec": {
   "display_name": "Python 3",
   "language": "python",
   "name": "python3"
  },
  "language_info": {
   "codemirror_mode": {
    "name": "ipython",
    "version": 3
   },
   "file_extension": ".py",
   "mimetype": "text/x-python",
   "name": "python",
   "nbconvert_exporter": "python",
   "pygments_lexer": "ipython3",
   "version": "3.6.3"
  }
 },
 "nbformat": 4,
 "nbformat_minor": 2
}
