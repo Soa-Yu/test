{
 "cells": [
  {
   "cell_type": "markdown",
   "metadata": {},
   "source": [
    "# 身分證字號驗證程式練習"
   ]
  },
  {
   "cell_type": "markdown",
   "metadata": {},
   "source": [
    "#### 規則: \n",
    "    1. 第一個字母大寫英文\n",
    "    2. 第一個數字1或2 (男性為1、女性為2)\n",
    "    3. 將英文對應的兩位數編碼銜接到身分證字號最前面，將11碼對應數字相乘weight後加總除10餘數為0 (weight = 19876543211)\n",
    "    例如: \n",
    "        A228756553\n",
    "        A = 10\n",
    "        A228756553 -> 10228756553\n",
    "        1*1 + 0*9 + 2*8 + 2*7 + 8*6 + 7*5 + 5*4 + 6*3 + 5*2 + 5*1 + 3*1 = 170 -> 除10餘數0\n",
    "       "
   ]
  },
  {
   "cell_type": "markdown",
   "metadata": {},
   "source": [
    "#### 英文代號以下表轉換成數字\n",
    "    A=10 台北市 J=18 新竹縣 S=26 高雄縣 \n",
    "    B=11 台中市 K=19 苗栗縣 T=27 屏東縣\n",
    "    C=12 基隆市 L=20 台中縣 U=28 花蓮縣 \n",
    "    D=13 台南市 M=21 南投縣 V=29 台東縣\n",
    "    E=14 高雄市 N=22 彰化縣 W=32 金門縣\n",
    "    F=15 台北縣 O=35 新竹市 X=30 澎湖縣\n",
    "    G=16 宜蘭縣 P=23 雲林縣 Y=31 陽明山\n",
    "    H=17 桃園縣 Q=24 嘉義縣 Z=33 連江縣\n",
    "    I=34 嘉義市 R=25 台南縣　"
   ]
  },
  {
   "cell_type": "markdown",
   "metadata": {},
   "source": [
    "### 1. 網路版本"
   ]
  },
  {
   "cell_type": "code",
   "execution_count": 4,
   "metadata": {},
   "outputs": [
    {
     "name": "stdout",
     "output_type": "stream",
     "text": [
      " 身分證認證 確認一組身分證號碼是否合法?? \n",
      "請輸入一組身分證號碼 ：Sdfe\n",
      "請輸入一組身分證號碼 ：s200170032\n",
      "=====================================\n",
      "輸入的身分證號碼是 s200170032\n",
      "輸入的身分證號碼 s200170032 是不合法的\n"
     ]
    }
   ],
   "source": [
    "print(\" 身分證認證 確認一組身分證號碼是否合法?? \")\n",
    "\n",
    "while True:\n",
    "     sP = input('請輸入一組身分證號碼 ：')\n",
    "     try:\n",
    "        sP = repr(sP)   #repr() 函式可以轉換任何的值成為一個字串\n",
    "        # print (len(sP))\n",
    "     except ValueError:\n",
    "       print ('這是不合法的輸入.  請再輸入一次...')\n",
    "       continue\n",
    "        \n",
    "     if len(sP) ==12 :   #ID 10位數 + 2個 '號  共12個\n",
    "       break\n",
    "\n",
    "sP=(sP[1:len(sP)-1])   #[ : ] 截取字符串中的一部分\n",
    "print(\"=====================================\")\n",
    "print(\"輸入的身分證號碼是\",sP)\n",
    "Sum=0\n",
    "\n",
    "s=list(sP)   #string to list\n",
    "\n",
    "if s[0]=='A':\n",
    "   Sum=Sum+1\n",
    "elif s[0]=='B':\n",
    "   Sum=Sum+10\n",
    "elif s[0]=='C':\n",
    "   Sum=Sum+19\n",
    "elif s[0]=='D':\n",
    "   Sum=Sum+28\n",
    "elif s[0]=='E':\n",
    "   Sum=Sum+37\n",
    "elif s[0]=='F':\n",
    "   Sum=Sum+46\n",
    "elif s[0]=='G':\n",
    "   Sum=Sum+55\n",
    "elif s[0]=='H':\n",
    "   Sum=Sum+64\n",
    "elif s[0]=='I':\n",
    "   Sum=Sum+39\n",
    "elif s[0]=='J':\n",
    "   Sum=Sum+73\n",
    "elif s[0]=='K':\n",
    "   Sum=Sum+82\n",
    "elif s[0]=='L':\n",
    "   Sum=Sum+2\n",
    "elif s[0]=='M':\n",
    "   Sum=Sum+11\n",
    "elif s[0]=='N':\n",
    "   Sum=Sum+20\n",
    "elif s[0]=='O':\n",
    "   Sum=Sum+48\n",
    "elif s[0]=='P':\n",
    "   Sum=Sum+29\n",
    "elif s[0]=='Q':\n",
    "   Sum=Sum+38\n",
    "elif s[0]=='R':\n",
    "   Sum=Sum+47\n",
    "elif s[0]=='S':\n",
    "   Sum=Sum+56\n",
    "elif s[0]=='T':\n",
    "   Sum=Sum+65\n",
    "elif s[0]=='U':\n",
    "   Sum=Sum+74\n",
    "elif s[0]=='V':\n",
    "   Sum=Sum+83\n",
    "elif s[0]=='W':\n",
    "   Sum=Sum+21\n",
    "elif s[0]=='X':\n",
    "   Sum=Sum+3\n",
    "elif s[0]=='Y':\n",
    "   Sum=Sum+12\n",
    "elif s[0]=='Z':\n",
    "   Sum=Sum+30  \n",
    "else:\n",
    "   Sum=Sum+0\n",
    "\n",
    "\n",
    "Sum1=8*int(s[1])+7*int(s[2])+6*int(s[3])+5*int(s[4])+4*int(s[5])+3*int(s[6])+2*int(s[7])+1*int(s[8])+int(s[9])\n",
    "Sum=Sum+Sum1\n",
    "Sum=Sum%10\n",
    "\n",
    "if Sum==0 :\n",
    "   print(\"輸入的身分證號碼\",sP,\"是合法的\")\n",
    "else :\n",
    "\n",
    "   print(\"輸入的身分證號碼\",sP,\"是不合法的\")  \n"
   ]
  },
  {
   "cell_type": "markdown",
   "metadata": {},
   "source": [
    "### 2. 改寫過的版本1"
   ]
  },
  {
   "cell_type": "code",
   "execution_count": 4,
   "metadata": {},
   "outputs": [
    {
     "name": "stdout",
     "output_type": "stream",
     "text": [
      " 身分證認證 確認一組身分證號碼是否合法?? \n",
      " 請輸入一組身分證號碼 ：S1205120\n",
      " 這是不合法的輸入.  請再輸入一次...\n",
      " 請輸入一組身分證號碼 ：S13520444\n",
      " 這是不合法的輸入.  請再輸入一次...\n",
      " 請輸入一組身分證號碼 ：S200170032\n",
      "=====================================\n",
      " 輸入的身分證號碼 S200170032 是合法的\n"
     ]
    }
   ],
   "source": [
    "print(\" 身分證認證 確認一組身分證號碼是否合法?? \")\n",
    "\n",
    "while True:\n",
    "     sP = input(' 請輸入一組身分證號碼 ：')\n",
    "     if len(sP) ==10 and 65<=ord(sP[0])<=90 and 1<=int(sP[1])<=2 :   #長度10,英文字母大寫開頭，第二碼為1或2 \n",
    "        break\n",
    "     else:\n",
    "        print (' 這是不合法的輸入.  請再輸入一次...')\n",
    "        continue            \n",
    "        \n",
    "citycode=sP[0]\n",
    "citymap = [10,11,12,13,14,15,16,17,34,18,19,20,21,22,35,23,24,25,26,27,28,29,32,30,31,33]\n",
    "citymapResult = str(citymap[ord(citycode)-65]) \n",
    "\n",
    "print(\"=====================================\")\n",
    "sP2=str(sP[1:len(sP)])\n",
    "sPmap = citymapResult + sP2\n",
    "\n",
    "Sum=0\n",
    "\n",
    "weight = '19876543211'\n",
    "for i in range(11):\n",
    "    Sum += int(weight[i])*int(sPmap[i])\n",
    "\n",
    "Sum=Sum%10\n",
    "\n",
    "if Sum==0 :\n",
    "   print(\" 輸入的身分證號碼\",sP,\"是合法的\")\n",
    "else :\n",
    "   print(\" 輸入的身分證號碼\",sP,\"是不合法的\")  \n"
   ]
  },
  {
   "cell_type": "markdown",
   "metadata": {},
   "source": [
    "### 3. 改寫過的版本2"
   ]
  },
  {
   "cell_type": "code",
   "execution_count": 3,
   "metadata": {},
   "outputs": [
    {
     "name": "stdout",
     "output_type": "stream",
     "text": [
      " 身分證認證 確認一組身分證號碼是否合法?? \n",
      " 請輸入一組身分證號碼 ：S300170032\n",
      " 這是不合法的輸入.  請再輸入一次...\n",
      " 請輸入一組身分證號碼 ：S2dwnvjdhw\n",
      " 這是不合法的輸入.  請再輸入一次...\n",
      " 請輸入一組身分證號碼 ：dsnvjdjdnej\n",
      " 這是不合法的輸入.  請再輸入一次...\n",
      " 請輸入一組身分證號碼 ：S200170032\n",
      "=====================================\n",
      " 輸入的身分證號碼 S200170032 是合法的\n"
     ]
    }
   ],
   "source": [
    "import re\n",
    "print(\" 身分證認證 確認一組身分證號碼是否合法?? \")\n",
    "\n",
    "while True:\n",
    "    sP = input(' 請輸入一組身分證號碼 ：')\n",
    "    if re.match('^[A-Z][12][0-9]{8}$',sP):  \n",
    "        citycode=sP[0]\n",
    "        citymap = [10,11,12,13,14,15,16,17,34,18,19,20,21,22,35,23,24,25,26,27,28,29,32,30,31,33]\n",
    "        citymapResult = str(citymap[ord(citycode)-65]) \n",
    "        sP2=str(sP[1:len(sP)])\n",
    "        sPmap = citymapResult + sP2\n",
    "        Sum=0\n",
    "        weight = '19876543211'\n",
    "        for i in range(11):\n",
    "            Sum += int(weight[i])*int(sPmap[i])\n",
    "        Sum=Sum%10\n",
    "    if re.match('^[A-Z][12][0-9]{8}$',sP) and Sum==0:\n",
    "        break\n",
    "    else:\n",
    "        print (' 這是不合法的輸入.  請再輸入一次...')\n",
    "        continue      \n",
    "        \n",
    "print(\"=====================================\")\n",
    "print(\" 輸入的身分證號碼\",sP,\"是合法的\")"
   ]
  },
  {
   "cell_type": "code",
   "execution_count": null,
   "metadata": {
    "collapsed": true
   },
   "outputs": [],
   "source": []
  }
 ],
 "metadata": {
  "kernelspec": {
   "display_name": "Python 3",
   "language": "python",
   "name": "python3"
  },
  "language_info": {
   "codemirror_mode": {
    "name": "ipython",
    "version": 3
   },
   "file_extension": ".py",
   "mimetype": "text/x-python",
   "name": "python",
   "nbconvert_exporter": "python",
   "pygments_lexer": "ipython3",
   "version": "3.6.3"
  }
 },
 "nbformat": 4,
 "nbformat_minor": 2
}
